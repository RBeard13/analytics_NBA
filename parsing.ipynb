{
  "nbformat": 4,
  "nbformat_minor": 0,
  "metadata": {
    "colab": {
      "name": "parsing.ipynb",
      "provenance": [],
      "collapsed_sections": []
    },
    "kernelspec": {
      "display_name": "Python 3",
      "name": "python3"
    },
    "language_info": {
      "name": "python"
    },
    "widgets": {
      "application/vnd.jupyter.widget-state+json": {
        "c227ee01d3b54379863f702cc14a4ac3": {
          "model_module": "@jupyter-widgets/controls",
          "model_name": "VBoxModel",
          "model_module_version": "1.5.0",
          "state": {
            "_view_name": "VBoxView",
            "_dom_classes": [],
            "_model_name": "VBoxModel",
            "_view_module": "@jupyter-widgets/controls",
            "_model_module_version": "1.5.0",
            "_view_count": null,
            "_view_module_version": "1.5.0",
            "box_style": "",
            "layout": "IPY_MODEL_d27ce847855e4441a2cc5c268e4c4ee9",
            "_model_module": "@jupyter-widgets/controls",
            "children": [
              "IPY_MODEL_0cc19f6b9ceb45728bd562e9b9740460",
              "IPY_MODEL_4d5a693b098d42d1b90276acbe1d1d52"
            ]
          }
        },
        "d27ce847855e4441a2cc5c268e4c4ee9": {
          "model_module": "@jupyter-widgets/base",
          "model_name": "LayoutModel",
          "model_module_version": "1.2.0",
          "state": {
            "_view_name": "LayoutView",
            "grid_template_rows": null,
            "right": null,
            "justify_content": null,
            "_view_module": "@jupyter-widgets/base",
            "overflow": null,
            "_model_module_version": "1.2.0",
            "_view_count": null,
            "flex_flow": null,
            "width": null,
            "min_width": null,
            "border": null,
            "align_items": null,
            "bottom": null,
            "_model_module": "@jupyter-widgets/base",
            "top": null,
            "grid_column": null,
            "overflow_y": null,
            "overflow_x": null,
            "grid_auto_flow": null,
            "grid_area": null,
            "grid_template_columns": null,
            "flex": null,
            "_model_name": "LayoutModel",
            "justify_items": null,
            "grid_row": null,
            "max_height": null,
            "align_content": null,
            "visibility": null,
            "align_self": null,
            "height": null,
            "min_height": null,
            "padding": null,
            "grid_auto_rows": null,
            "grid_gap": null,
            "max_width": null,
            "order": null,
            "_view_module_version": "1.2.0",
            "grid_template_areas": null,
            "object_position": null,
            "object_fit": null,
            "grid_auto_columns": null,
            "margin": null,
            "display": null,
            "left": null
          }
        },
        "0cc19f6b9ceb45728bd562e9b9740460": {
          "model_module": "@jupyter-widgets/controls",
          "model_name": "HTMLModel",
          "model_module_version": "1.5.0",
          "state": {
            "_view_name": "HTMLView",
            "style": "IPY_MODEL_505fb078f6c64413a89f686c75c7cd2b",
            "_dom_classes": [],
            "description": "",
            "_model_name": "HTMLModel",
            "placeholder": "​",
            "_view_module": "@jupyter-widgets/controls",
            "_model_module_version": "1.5.0",
            "value": "Items: 300",
            "_view_count": null,
            "_view_module_version": "1.5.0",
            "description_tooltip": null,
            "_model_module": "@jupyter-widgets/controls",
            "layout": "IPY_MODEL_0ae53ea5275f425bad734826c6f928ce"
          }
        },
        "4d5a693b098d42d1b90276acbe1d1d52": {
          "model_module": "@jupyter-widgets/controls",
          "model_name": "IntProgressModel",
          "model_module_version": "1.5.0",
          "state": {
            "_view_name": "ProgressView",
            "style": "IPY_MODEL_9834ed16899f4f91a38b958261a73200",
            "_dom_classes": [],
            "description": "",
            "_model_name": "IntProgressModel",
            "bar_style": "success",
            "max": 300,
            "_view_module": "@jupyter-widgets/controls",
            "_model_module_version": "1.5.0",
            "value": 300,
            "_view_count": null,
            "_view_module_version": "1.5.0",
            "orientation": "horizontal",
            "min": 0,
            "description_tooltip": null,
            "_model_module": "@jupyter-widgets/controls",
            "layout": "IPY_MODEL_3af687be0113451aa90ad08f609508a3"
          }
        },
        "505fb078f6c64413a89f686c75c7cd2b": {
          "model_module": "@jupyter-widgets/controls",
          "model_name": "DescriptionStyleModel",
          "model_module_version": "1.5.0",
          "state": {
            "_view_name": "StyleView",
            "_model_name": "DescriptionStyleModel",
            "description_width": "",
            "_view_module": "@jupyter-widgets/base",
            "_model_module_version": "1.5.0",
            "_view_count": null,
            "_view_module_version": "1.2.0",
            "_model_module": "@jupyter-widgets/controls"
          }
        },
        "0ae53ea5275f425bad734826c6f928ce": {
          "model_module": "@jupyter-widgets/base",
          "model_name": "LayoutModel",
          "model_module_version": "1.2.0",
          "state": {
            "_view_name": "LayoutView",
            "grid_template_rows": null,
            "right": null,
            "justify_content": null,
            "_view_module": "@jupyter-widgets/base",
            "overflow": null,
            "_model_module_version": "1.2.0",
            "_view_count": null,
            "flex_flow": null,
            "width": null,
            "min_width": null,
            "border": null,
            "align_items": null,
            "bottom": null,
            "_model_module": "@jupyter-widgets/base",
            "top": null,
            "grid_column": null,
            "overflow_y": null,
            "overflow_x": null,
            "grid_auto_flow": null,
            "grid_area": null,
            "grid_template_columns": null,
            "flex": null,
            "_model_name": "LayoutModel",
            "justify_items": null,
            "grid_row": null,
            "max_height": null,
            "align_content": null,
            "visibility": null,
            "align_self": null,
            "height": null,
            "min_height": null,
            "padding": null,
            "grid_auto_rows": null,
            "grid_gap": null,
            "max_width": null,
            "order": null,
            "_view_module_version": "1.2.0",
            "grid_template_areas": null,
            "object_position": null,
            "object_fit": null,
            "grid_auto_columns": null,
            "margin": null,
            "display": null,
            "left": null
          }
        },
        "9834ed16899f4f91a38b958261a73200": {
          "model_module": "@jupyter-widgets/controls",
          "model_name": "ProgressStyleModel",
          "model_module_version": "1.5.0",
          "state": {
            "_view_name": "StyleView",
            "_model_name": "ProgressStyleModel",
            "description_width": "",
            "_view_module": "@jupyter-widgets/base",
            "_model_module_version": "1.5.0",
            "_view_count": null,
            "_view_module_version": "1.2.0",
            "bar_color": null,
            "_model_module": "@jupyter-widgets/controls"
          }
        },
        "3af687be0113451aa90ad08f609508a3": {
          "model_module": "@jupyter-widgets/base",
          "model_name": "LayoutModel",
          "model_module_version": "1.2.0",
          "state": {
            "_view_name": "LayoutView",
            "grid_template_rows": null,
            "right": null,
            "justify_content": null,
            "_view_module": "@jupyter-widgets/base",
            "overflow": null,
            "_model_module_version": "1.2.0",
            "_view_count": null,
            "flex_flow": null,
            "width": null,
            "min_width": null,
            "border": null,
            "align_items": null,
            "bottom": null,
            "_model_module": "@jupyter-widgets/base",
            "top": null,
            "grid_column": null,
            "overflow_y": null,
            "overflow_x": null,
            "grid_auto_flow": null,
            "grid_area": null,
            "grid_template_columns": null,
            "flex": null,
            "_model_name": "LayoutModel",
            "justify_items": null,
            "grid_row": null,
            "max_height": null,
            "align_content": null,
            "visibility": null,
            "align_self": null,
            "height": null,
            "min_height": null,
            "padding": null,
            "grid_auto_rows": null,
            "grid_gap": null,
            "max_width": null,
            "order": null,
            "_view_module_version": "1.2.0",
            "grid_template_areas": null,
            "object_position": null,
            "object_fit": null,
            "grid_auto_columns": null,
            "margin": null,
            "display": null,
            "left": null
          }
        }
      }
    }
  },
  "cells": [
    {
      "cell_type": "code",
      "metadata": {
        "colab": {
          "base_uri": "https://localhost:8080/"
        },
        "id": "omd5IuJEsD0x",
        "outputId": "5b7287f6-cd3b-4dc6-dc0f-00e3d01cf619"
      },
      "source": [
        "!pip install beautifulsoup4"
      ],
      "execution_count": null,
      "outputs": [
        {
          "output_type": "stream",
          "text": [
            "Requirement already satisfied: beautifulsoup4 in /usr/local/lib/python3.7/dist-packages (4.6.3)\n"
          ],
          "name": "stdout"
        }
      ]
    },
    {
      "cell_type": "code",
      "metadata": {
        "colab": {
          "base_uri": "https://localhost:8080/"
        },
        "id": "3R9ItOeFttgD",
        "outputId": "1914409c-438a-414b-ebf0-73fd2189324c"
      },
      "source": [
        "!pip install selenium\n",
        "!apt-get update \n",
        "!apt install chromium-chromedriver\n",
        "\n",
        "from selenium import webdriver\n",
        "from selenium.webdriver.common.keys import Keys\n",
        "from selenium.webdriver.support.ui import WebDriverWait\n",
        "\n",
        "chrome_options = webdriver.ChromeOptions()\n",
        "chrome_options.add_argument('--headless')\n",
        "chrome_options.add_argument('--no-sandbox')\n",
        "chrome_options.add_argument('--disable-dev-shm-usage')"
      ],
      "execution_count": null,
      "outputs": [
        {
          "output_type": "stream",
          "text": [
            "Collecting selenium\n",
            "\u001b[?25l  Downloading https://files.pythonhosted.org/packages/80/d6/4294f0b4bce4de0abf13e17190289f9d0613b0a44e5dd6a7f5ca98459853/selenium-3.141.0-py2.py3-none-any.whl (904kB)\n",
            "\u001b[K     |████████████████████████████████| 911kB 2.7MB/s \n",
            "\u001b[?25hRequirement already satisfied: urllib3 in /usr/local/lib/python3.7/dist-packages (from selenium) (1.24.3)\n",
            "Installing collected packages: selenium\n",
            "Successfully installed selenium-3.141.0\n",
            "Get:1 http://security.ubuntu.com/ubuntu bionic-security InRelease [88.7 kB]\n",
            "Ign:2 https://developer.download.nvidia.com/compute/cuda/repos/ubuntu1804/x86_64  InRelease\n",
            "Get:3 https://cloud.r-project.org/bin/linux/ubuntu bionic-cran40/ InRelease [3,626 B]\n",
            "Get:4 http://ppa.launchpad.net/c2d4u.team/c2d4u4.0+/ubuntu bionic InRelease [15.9 kB]\n",
            "Hit:5 http://archive.ubuntu.com/ubuntu bionic InRelease\n",
            "Ign:6 https://developer.download.nvidia.com/compute/machine-learning/repos/ubuntu1804/x86_64  InRelease\n",
            "Get:7 https://developer.download.nvidia.com/compute/cuda/repos/ubuntu1804/x86_64  Release [697 B]\n",
            "Hit:8 https://developer.download.nvidia.com/compute/machine-learning/repos/ubuntu1804/x86_64  Release\n",
            "Get:9 https://developer.download.nvidia.com/compute/cuda/repos/ubuntu1804/x86_64  Release.gpg [836 B]\n",
            "Get:10 http://archive.ubuntu.com/ubuntu bionic-updates InRelease [88.7 kB]\n",
            "Get:11 http://security.ubuntu.com/ubuntu bionic-security/main amd64 Packages [2,221 kB]\n",
            "Hit:12 http://ppa.launchpad.net/cran/libgit2/ubuntu bionic InRelease\n",
            "Get:13 http://security.ubuntu.com/ubuntu bionic-security/universe amd64 Packages [1,418 kB]\n",
            "Get:14 http://archive.ubuntu.com/ubuntu bionic-backports InRelease [74.6 kB]\n",
            "Get:15 http://ppa.launchpad.net/deadsnakes/ppa/ubuntu bionic InRelease [15.9 kB]\n",
            "Get:16 https://cloud.r-project.org/bin/linux/ubuntu bionic-cran40/ Packages [62.2 kB]\n",
            "Hit:17 http://ppa.launchpad.net/graphics-drivers/ppa/ubuntu bionic InRelease\n",
            "Get:19 http://ppa.launchpad.net/c2d4u.team/c2d4u4.0+/ubuntu bionic/main Sources [1,780 kB]\n",
            "Ign:20 https://developer.download.nvidia.com/compute/cuda/repos/ubuntu1804/x86_64  Packages\n",
            "Get:20 https://developer.download.nvidia.com/compute/cuda/repos/ubuntu1804/x86_64  Packages [637 kB]\n",
            "Get:21 http://archive.ubuntu.com/ubuntu bionic-updates/main amd64 Packages [2,658 kB]\n",
            "Get:22 http://ppa.launchpad.net/c2d4u.team/c2d4u4.0+/ubuntu bionic/main amd64 Packages [910 kB]\n",
            "Get:23 http://archive.ubuntu.com/ubuntu bionic-updates/universe amd64 Packages [2,188 kB]\n",
            "Get:24 http://ppa.launchpad.net/deadsnakes/ppa/ubuntu bionic/main amd64 Packages [40.9 kB]\n",
            "Fetched 12.2 MB in 3s (3,574 kB/s)\n",
            "Reading package lists... Done\n",
            "Reading package lists... Done\n",
            "Building dependency tree       \n",
            "Reading state information... Done\n",
            "The following additional packages will be installed:\n",
            "  chromium-browser chromium-browser-l10n chromium-codecs-ffmpeg-extra\n",
            "Suggested packages:\n",
            "  webaccounts-chromium-extension unity-chromium-extension\n",
            "The following NEW packages will be installed:\n",
            "  chromium-browser chromium-browser-l10n chromium-chromedriver\n",
            "  chromium-codecs-ffmpeg-extra\n",
            "0 upgraded, 4 newly installed, 0 to remove and 59 not upgraded.\n",
            "Need to get 86.0 MB of archives.\n",
            "After this operation, 298 MB of additional disk space will be used.\n",
            "Get:1 http://archive.ubuntu.com/ubuntu bionic-updates/universe amd64 chromium-codecs-ffmpeg-extra amd64 91.0.4472.101-0ubuntu0.18.04.1 [1,124 kB]\n",
            "Get:2 http://archive.ubuntu.com/ubuntu bionic-updates/universe amd64 chromium-browser amd64 91.0.4472.101-0ubuntu0.18.04.1 [76.1 MB]\n",
            "Get:3 http://archive.ubuntu.com/ubuntu bionic-updates/universe amd64 chromium-browser-l10n all 91.0.4472.101-0ubuntu0.18.04.1 [3,937 kB]\n",
            "Get:4 http://archive.ubuntu.com/ubuntu bionic-updates/universe amd64 chromium-chromedriver amd64 91.0.4472.101-0ubuntu0.18.04.1 [4,837 kB]\n",
            "Fetched 86.0 MB in 4s (23.3 MB/s)\n",
            "Selecting previously unselected package chromium-codecs-ffmpeg-extra.\n",
            "(Reading database ... 160815 files and directories currently installed.)\n",
            "Preparing to unpack .../chromium-codecs-ffmpeg-extra_91.0.4472.101-0ubuntu0.18.04.1_amd64.deb ...\n",
            "Unpacking chromium-codecs-ffmpeg-extra (91.0.4472.101-0ubuntu0.18.04.1) ...\n",
            "Selecting previously unselected package chromium-browser.\n",
            "Preparing to unpack .../chromium-browser_91.0.4472.101-0ubuntu0.18.04.1_amd64.deb ...\n",
            "Unpacking chromium-browser (91.0.4472.101-0ubuntu0.18.04.1) ...\n",
            "Selecting previously unselected package chromium-browser-l10n.\n",
            "Preparing to unpack .../chromium-browser-l10n_91.0.4472.101-0ubuntu0.18.04.1_all.deb ...\n",
            "Unpacking chromium-browser-l10n (91.0.4472.101-0ubuntu0.18.04.1) ...\n",
            "Selecting previously unselected package chromium-chromedriver.\n",
            "Preparing to unpack .../chromium-chromedriver_91.0.4472.101-0ubuntu0.18.04.1_amd64.deb ...\n",
            "Unpacking chromium-chromedriver (91.0.4472.101-0ubuntu0.18.04.1) ...\n",
            "Setting up chromium-codecs-ffmpeg-extra (91.0.4472.101-0ubuntu0.18.04.1) ...\n",
            "Setting up chromium-browser (91.0.4472.101-0ubuntu0.18.04.1) ...\n",
            "update-alternatives: using /usr/bin/chromium-browser to provide /usr/bin/x-www-browser (x-www-browser) in auto mode\n",
            "update-alternatives: using /usr/bin/chromium-browser to provide /usr/bin/gnome-www-browser (gnome-www-browser) in auto mode\n",
            "Setting up chromium-chromedriver (91.0.4472.101-0ubuntu0.18.04.1) ...\n",
            "Setting up chromium-browser-l10n (91.0.4472.101-0ubuntu0.18.04.1) ...\n",
            "Processing triggers for man-db (2.8.3-2ubuntu0.1) ...\n",
            "Processing triggers for hicolor-icon-theme (0.17-2) ...\n",
            "Processing triggers for mime-support (3.60ubuntu1) ...\n",
            "Processing triggers for libc-bin (2.27-3ubuntu1.2) ...\n",
            "/sbin/ldconfig.real: /usr/local/lib/python3.7/dist-packages/ideep4py/lib/libmkldnn.so.0 is not a symbolic link\n",
            "\n"
          ],
          "name": "stdout"
        }
      ]
    },
    {
      "cell_type": "code",
      "metadata": {
        "id": "WpUC_NYUtpId"
      },
      "source": [
        "import requests\n",
        "from bs4 import BeautifulSoup\n",
        "import time\n",
        "import pandas as pd\n",
        "import numpy as np"
      ],
      "execution_count": null,
      "outputs": []
    },
    {
      "cell_type": "code",
      "metadata": {
        "id": "dEVNj28tsXmc"
      },
      "source": [
        "def log_progress(sequence, every=None, size=None, name='Items'):\n",
        "    from ipywidgets import IntProgress, HTML, VBox\n",
        "    from IPython.display import display\n",
        "\n",
        "    is_iterator = False\n",
        "    if size is None:\n",
        "        try:\n",
        "            size = len(sequence)\n",
        "        except TypeError:\n",
        "            is_iterator = True\n",
        "    if size is not None:\n",
        "        if every is None:\n",
        "            if size <= 200:\n",
        "                every = 1\n",
        "            else:\n",
        "                every = int(size / 200)     # every 0.5%\n",
        "    else:\n",
        "        assert every is not None, 'sequence is iterator, set every'\n",
        "\n",
        "    if is_iterator:\n",
        "        progress = IntProgress(min=0, max=1, value=1)\n",
        "        progress.bar_style = 'info'\n",
        "    else:\n",
        "        progress = IntProgress(min=0, max=size, value=0)\n",
        "    label = HTML()\n",
        "    box = VBox(children=[label, progress])\n",
        "    display(box)\n",
        "\n",
        "    index = 0\n",
        "    try:\n",
        "        for index, record in enumerate(sequence, 1):\n",
        "            if index == 1 or index % every == 0:\n",
        "                if is_iterator:\n",
        "                    label.value = '{name}: {index} / ?'.format(\n",
        "                        name=name,\n",
        "                        index=index\n",
        "                    )\n",
        "                else:\n",
        "                    progress.value = index\n",
        "                    label.value = u'{name}: {index} / {size}'.format(\n",
        "                        name=name,\n",
        "                        index=index,\n",
        "                        size=size\n",
        "                    )\n",
        "            yield record\n",
        "    except:\n",
        "        progress.bar_style = 'danger'\n",
        "        raise\n",
        "    else:\n",
        "        progress.bar_style = 'success'\n",
        "        progress.value = index\n",
        "        label.value = \"{name}: {index}\".format(\n",
        "            name=name,\n",
        "            index=str(index or '?')\n",
        "        )"
      ],
      "execution_count": null,
      "outputs": []
    },
    {
      "cell_type": "code",
      "metadata": {
        "id": "ryWzvEkPa12m"
      },
      "source": [
        ""
      ],
      "execution_count": null,
      "outputs": []
    },
    {
      "cell_type": "code",
      "metadata": {
        "id": "eJQcMFVPczwl"
      },
      "source": [
        ""
      ],
      "execution_count": null,
      "outputs": []
    },
    {
      "cell_type": "code",
      "metadata": {
        "id": "TOj4Vtasg1cN"
      },
      "source": [
        ""
      ],
      "execution_count": null,
      "outputs": []
    },
    {
      "cell_type": "code",
      "metadata": {
        "id": "WJj4gU0jydNK"
      },
      "source": [
        "def help_scroll(driver):\n",
        "  #функция чтоб пролистать вниз списка\n",
        "\n",
        "  help = driver.find_elements_by_class_name('event__match')\n",
        "  driver.execute_script(\"arguments[0].scrollIntoView();\", help[-3])\n",
        "  print(len(help))\n",
        "def check_more_matches(driver):\n",
        "  #проверка, можно ли еще прогружать список матчей\n",
        "\n",
        "  elements = driver.find_elements_by_class_name('event__more')\n",
        "  if(len(elements) > 0):\n",
        "    return True\n",
        "  else:\n",
        "    return False\n",
        "def load_more_matches(driver):\n",
        "  #прогружаем еще матчи\n",
        "\n",
        "  try:\n",
        "    element = driver.find_elements_by_class_name('event__more')[0]\n",
        "    help_scroll(driver)\n",
        "    element.click()\n",
        "  except MoveTargetOutOfBoundsException:\n",
        "    print('fuck')"
      ],
      "execution_count": null,
      "outputs": []
    },
    {
      "cell_type": "code",
      "metadata": {
        "id": "tF2EUlpF75AJ"
      },
      "source": [
        "def get_id_matches_in_season(season):\n",
        "  # получить id всех матчей в сезоне\n",
        "\n",
        "  ids = []\n",
        "\n",
        "  driver = webdriver.Chrome(options=chrome_options)\n",
        "  driver.get(season)\n",
        "  \n",
        "  while True:\n",
        "    if(check_more_matches(driver)):\n",
        "      load_more_matches(driver)\n",
        "      time.sleep(2)\n",
        "    else:\n",
        "      break\n",
        "  \n",
        "  html = driver.page_source\n",
        "  soap = BeautifulSoup(html)\n",
        "\n",
        "  for i in soap.find_all('div', class_='event__match'):\n",
        "    ids.append(i['id'].split('_')[2])\n",
        "  \n",
        "  driver.close()\n",
        "\n",
        "  return ids"
      ],
      "execution_count": null,
      "outputs": []
    },
    {
      "cell_type": "code",
      "metadata": {
        "id": "WkCPw5r3_hcg"
      },
      "source": [
        "def stats_game_in_series(driver):\n",
        "  #получить статистику матча\n",
        "  \n",
        "  soap = BeautifulSoup(driver.page_source)\n",
        "  stats = soap.findAll('div', class_='statCategory___33LOZ_7')\n",
        "  \n",
        "  data = []\n",
        "  index = []\n",
        "  \n",
        "  for i in stats:\n",
        "    for ind, child in enumerate(i):\n",
        "      if(ind in [0,2]):\n",
        "        data.append(child.text.replace('%', ''))\n",
        "      else:\n",
        "        index.append('Дома_'+child.text)\n",
        "        index.append('Гости_'+child.text)\n",
        "  \n",
        "  return pd.Series(data=data, index=index)"
      ],
      "execution_count": null,
      "outputs": []
    },
    {
      "cell_type": "code",
      "metadata": {
        "id": "YWMJBMMIMm3L"
      },
      "source": [
        "def same_sign(a, b):\n",
        "  return (a / b) >= 0\n",
        "\n",
        "def calculate_scores_by_qtr(driver):\n",
        "  #получить \"ход матча\"\n",
        "  \n",
        "  res = []\n",
        "  \n",
        "  elements = driver.find_elements_by_class_name('subTabs__tab')\n",
        "  for i in elements:\n",
        "    try:\n",
        "      i.click() \n",
        "      sleep(0.5)\n",
        "    except:\n",
        "      None\n",
        "    \n",
        "    soap = BeautifulSoup(driver.page_source)\n",
        "    \n",
        "    for rows in soap.find_all('div', class_='matchHistory___3SdQ7EQ'):\n",
        "      for ind, score in enumerate(rows):\n",
        "        if(ind == 1):\n",
        "          res.append(score.text)\n",
        "\n",
        "  return res\n",
        "\n",
        "def calculate_metric_pbp(pbp):\n",
        "  # по \"ход матча\" посчитать 'Рав-во_счета', 'Смена_лид-ва', 'Дома_макс_лид-во', 'Гости_макс_лид-во'\n",
        "\n",
        "  equals = 0\n",
        "  change_lead = 0\n",
        "  max_lead_home = pbp.max()\n",
        "  max_lead_away = abs(pbp.min())\n",
        "  \n",
        "  for i in range(len(pbp)-1):\n",
        "    if (pbp[i] == 0):\n",
        "      equals +=1\n",
        "      if (~same_sign(pbp[i+1], pbp[i-1])):\n",
        "        change_lead +=1\n",
        "    \n",
        "    elif (~same_sign(pbp[i+1], pbp[i])):\n",
        "      change_lead += 1 \n",
        "  \n",
        "  return pd.Series(data=[equals, change_lead, max_lead_home, max_lead_away],\n",
        "                   index=['Рав-во_счета', 'Смена_лид-ва', 'Дома_макс_лид-во', 'Гости_макс_лид-во'])\n",
        "\n",
        "def calculate_run(dif):\n",
        "  #по \"ход матча\" посчитать 'Дома_макс_рывок', 'Гости_макс_рывок', 'Дома_кол-во_рывков', 'Гости_кол-во_рывков'\n",
        "\n",
        "  for i in range(1, len(dif)):\n",
        "    if(same_sign(dif[i], dif[i-1])):\n",
        "      dif[i] += dif[i-1]\n",
        "  \n",
        "  max_home = dif.max()\n",
        "  max_away = abs(dif.min())\n",
        "  q_run_home = len(dif[dif > 5])\n",
        "  q_run_away = len(dif[dif < -5])\n",
        "  \n",
        "  return pd.Series(data=[max_home, max_away, q_run_home, q_run_away],\n",
        "                   index=['Дома_макс_рывок', 'Гости_макс_рывок', 'Дома_кол-во_рывков', 'Гости_кол-во_рывков'])\n",
        "\n",
        "def scores_game(driver):\n",
        "  #объеденить метрики из \"ход матча\"\n",
        "\n",
        "  check = calculate_scores_by_qtr(driver)\n",
        "  \n",
        "  home = []\n",
        "  away = []\n",
        "  \n",
        "  for i in check:\n",
        "    home_point, away_point = i.split('-')\n",
        "    home.append(int(home_point))\n",
        "    away.append(int(away_point))\n",
        "  \n",
        "  delta_point = np.array(home) - np.array(away)\n",
        "\n",
        "  scores_metric = calculate_metric_pbp(delta_point)\n",
        "\n",
        "  dif = []\n",
        "  for i in range(1, len(delta_point)):\n",
        "    dif.append(delta_point[i] - delta_point[i-1])\n",
        "  dif = np.array(dif)\n",
        "\n",
        "  run_metric = calculate_run(dif)\n",
        "\n",
        "  return pd.concat([scores_metric, run_metric])"
      ],
      "execution_count": null,
      "outputs": []
    },
    {
      "cell_type": "code",
      "metadata": {
        "id": "ik7yBsesj3HK"
      },
      "source": [
        "def check_href(driver, href):\n",
        "  #проверка существует ли элемент с данной ссылкой, и клик на него, если да\n",
        "\n",
        "  elem = driver.find_elements_by_xpath(\"//a[@href='\" + href + \"']\")\n",
        "  if (len(elem)):\n",
        "    try:\n",
        "      elem[0].click()\n",
        "      time.sleep(1)\n",
        "    except:\n",
        "      driver.find_element_by_id('onetrust-accept-btn-handler').click()\n",
        "      elem[0].click()\n",
        "      time.sleep(1)  \n",
        "    return True   "
      ],
      "execution_count": null,
      "outputs": []
    },
    {
      "cell_type": "code",
      "metadata": {
        "id": "HDOgH3fI6M2b"
      },
      "source": [
        "#функции для подсчета коэффициентов на победу, тотала с примерно равными коэффициентами, тотала 1ой четверти\n",
        "#которые дают букмекеры(без указания букмекера)\n",
        "def odds_over_under(driver, name_event, bound):\n",
        "\n",
        "  over = []\n",
        "  under = []\n",
        "  total = []\n",
        "  \n",
        "  soap = BeautifulSoup(driver.page_source)\n",
        "  \n",
        "  for first in soap.find_all('div', class_='row___1rtP1QI'):#rows___1BdItrT'):\n",
        "  #for second in first:\n",
        "    for ind, odds in enumerate(first):#second):\n",
        "      if(ind == 1):\n",
        "        if (float (odds.text) < bound):\n",
        "          break\n",
        "        total.append(odds.text)\n",
        "      if(ind == 2):\n",
        "        over.append(float(odds.text))\n",
        "      if(ind == 3):\n",
        "        under.append(float(odds.text))\n",
        "  try:\n",
        "    ind = np.argmin(abs(np.array(over) - np.array(under)))\n",
        "    return pd.Series([total[ind], over[ind], under[ind]], index=[name_event, name_event+'_больше',\n",
        "                                                                 name_event+'_меньше'])\n",
        "  except:\n",
        "    return pd.Series(['empty']*3, index=[name_event, name_event+'_больше',\n",
        "                                                                 name_event+'_меньше'])\n",
        "    \n",
        "\n",
        "def odds_match(driver):\n",
        "  series = []\n",
        "  \n",
        "  home = []\n",
        "  away = []\n",
        "  \n",
        "  soap = BeautifulSoup(driver.page_source)\n",
        "  for first in soap.find_all('div', class_='rows___1BdItrT'):\n",
        "    for second in first:\n",
        "      for ind, odds in enumerate(second):\n",
        "        if(ind == 1):\n",
        "          home.append((odds.text))\n",
        "        if(ind == 2):\n",
        "          away.append((odds.text))\n",
        "  \n",
        "  series.append(pd.Series(data=[home[0], away[0]], index=['Дома_кэф_победа', 'Гости_кэф_победа']))\n",
        "  \n",
        "  if (check_href(driver, '#odds-comparison/over-under')):\n",
        "    series.append(odds_over_under(driver, 'Тотал_прогноз_матча', 150))\n",
        "\n",
        "    if (check_href(driver, '#odds-comparison/over-under/1st-qrt')):\n",
        "      series.append(odds_over_under(driver, 'Тотал_1ч_прогноз', 20))\n",
        "  \n",
        "  return pd.concat(series)"
      ],
      "execution_count": null,
      "outputs": []
    },
    {
      "cell_type": "code",
      "metadata": {
        "id": "fin8nhbhucqa"
      },
      "source": [
        "def get_one_match(id):\n",
        "  #получить данные одного матча по его id\n",
        "\n",
        "  series = []\n",
        "\n",
        "  url = 'https://www.flashscore.ru/match/' + id + '/#match-summary/match-summary'\n",
        "  driver = webdriver.Chrome(options=chrome_options)\n",
        "  driver.get(url)\n",
        "  time.sleep(0.5)\n",
        "\n",
        "  soap = BeautifulSoup(driver.page_source)\n",
        "\n",
        "  description = [soap.find_all('span', class_='country___24Qe-aj')[0].select('a')[0].text]\n",
        "  info = soap.find_all('div', class_='info___2fPCmvW')\n",
        "  if len(info):\n",
        "    info = [info[0].text]\n",
        "  else:\n",
        "    info = ['empty']\n",
        "  date_time_match = soap.find_all('div', class_='startTime___2oy0czV')[0].text.split()\n",
        "\n",
        "  away_score = soap.find_all('div', class_='away___2Q2jzQu')[1:]\n",
        "  away_score = [i.text for i in away_score]\n",
        "\n",
        "  home_score = soap.find_all('div', class_='home___2hIlHif')[1:]\n",
        "  home_score = [i.text for i in home_score]\n",
        "\n",
        "  columns = ['Описание', 'Дата', 'Время', 'Дома_название', 'Дома_счет_матча', 'Дома_счет_1ч',\n",
        "            'Дома_счет_2ч', 'Дома_счет_3ч', 'Дома_счет_4ч', 'Дома_счет_от', 'Гости_название',\n",
        "            'Гости_счет_матча', 'Гости_счет_1ч', 'Гости_счет_2ч', 'Гости_счет_3ч', 'Гости_счет_4ч',\n",
        "            'Гости_счет_от', 'Информация']\n",
        "  series.append(pd.Series(data=description+date_time_match+home_score+away_score+info, index=columns))\n",
        "\n",
        "  if (check_href(driver, '#match-summary/match-statistics')):\n",
        "    series.append(stats_game_in_series(driver))\n",
        "\n",
        "  if (check_href(driver, '#match-summary/point-by-point')):\n",
        "    series.append(scores_game(driver))\n",
        "\n",
        "  if (check_href(driver, '#odds-comparison')):\n",
        "    series.append(odds_match(driver))\n",
        " \n",
        "  driver.close()\n",
        "  return pd.concat(series)"
      ],
      "execution_count": null,
      "outputs": []
    },
    {
      "cell_type": "code",
      "metadata": {
        "id": "n7abfhlo_hwQ"
      },
      "source": [
        "def get_all_games(season):\n",
        "  #получить dataframe из всех id матчей определенного сезона \n",
        "\n",
        "  error = []\n",
        "  series = []\n",
        "  for i in log_progress(season):\n",
        "    try:\n",
        "      series.append(get_one_match(i))\n",
        "    except:\n",
        "      error.append(i)\n",
        "      print(error)\n",
        "  return pd.concat(series, axis=1).T, error"
      ],
      "execution_count": null,
      "outputs": []
    },
    {
      "cell_type": "code",
      "metadata": {
        "colab": {
          "base_uri": "https://localhost:8080/"
        },
        "id": "bncubT_D3vmR",
        "outputId": "8fa7a119-d92e-4fe6-820b-510a39bbb629"
      },
      "source": [
        "response = requests.get('https://www.flashscore.ru/basketball/usa/nba/archive/')\n",
        "response"
      ],
      "execution_count": null,
      "outputs": [
        {
          "output_type": "execute_result",
          "data": {
            "text/plain": [
              "<Response [200]>"
            ]
          },
          "metadata": {
            "tags": []
          },
          "execution_count": 13
        }
      ]
    },
    {
      "cell_type": "code",
      "metadata": {
        "id": "uEK5CWNt3w8n"
      },
      "source": [
        "soup = BeautifulSoup(response.text)"
      ],
      "execution_count": null,
      "outputs": []
    },
    {
      "cell_type": "code",
      "metadata": {
        "id": "3eJt8smy3zZe"
      },
      "source": [
        "seasons = []\n",
        "#получим названия сезонов\n",
        "season_ref = []\n",
        "#получим ссылки на эти сезоны\n",
        "\n",
        "for i in soup.find_all('div', class_='leagueTable__seasonName'):\n",
        "  spl = i.text.split()\n",
        "  \n",
        "  if((spl[0]) == 'НБА'):\n",
        "    seasons.append(spl[1])\n",
        "    season_ref.append('https://www.flashscore.ru' + i.a['href'] + 'results/')"
      ],
      "execution_count": null,
      "outputs": []
    },
    {
      "cell_type": "code",
      "metadata": {
        "colab": {
          "base_uri": "https://localhost:8080/",
          "height": 35
        },
        "id": "3j761kD63uZF",
        "outputId": "65d315ac-e66f-4d6d-8418-60d856181fb1"
      },
      "source": [
        "last_season = season_ref[0]\n",
        "last_season\n",
        "#крайний сезон"
      ],
      "execution_count": null,
      "outputs": [
        {
          "output_type": "execute_result",
          "data": {
            "application/vnd.google.colaboratory.intrinsic+json": {
              "type": "string"
            },
            "text/plain": [
              "'https://www.flashscore.ru/basketball/usa/nba/results/'"
            ]
          },
          "metadata": {
            "tags": []
          },
          "execution_count": 16
        }
      ]
    },
    {
      "cell_type": "code",
      "metadata": {
        "colab": {
          "base_uri": "https://localhost:8080/",
          "height": 52
        },
        "id": "MIBTs8BvToyL",
        "outputId": "0b92a590-72bb-47eb-c880-6e743ac49e25"
      },
      "source": [
        "'''def get_games_by_ref(ref, name):\n",
        "  id_in_season = get_id_matches_in_season(ref)\n",
        "  df_season, error_season = get_all_games(id_in_season[:5])\n",
        "  df_download(df_season, name+'.csv')'''"
      ],
      "execution_count": null,
      "outputs": [
        {
          "output_type": "execute_result",
          "data": {
            "application/vnd.google.colaboratory.intrinsic+json": {
              "type": "string"
            },
            "text/plain": [
              "\"def get_games_by_ref(ref, name):\\n  id_in_season = get_id_matches_in_season(ref)\\n  df_season, error_season = get_all_games(id_in_season[:5])\\n  df_download(df_season, name+'.csv')\""
            ]
          },
          "metadata": {
            "tags": []
          },
          "execution_count": 17
        }
      ]
    },
    {
      "cell_type": "code",
      "metadata": {
        "id": "1iMOwtj8Ur7-"
      },
      "source": [
        "#get_games_by_ref(season_ref[0], seasons[0])"
      ],
      "execution_count": null,
      "outputs": []
    },
    {
      "cell_type": "code",
      "metadata": {
        "colab": {
          "base_uri": "https://localhost:8080/"
        },
        "id": "gzdJA0DKI_bp",
        "outputId": "049df910-36e2-4ed3-f16a-672e9f202c9c"
      },
      "source": [
        "\n",
        "s15_16 = season_ref[5]\n",
        "id_s15_16 = get_id_matches_in_season(s15_16)\n"
      ],
      "execution_count": null,
      "outputs": [
        {
          "output_type": "stream",
          "text": [
            "114\n",
            "203\n",
            "302\n",
            "405\n",
            "512\n",
            "603\n",
            "708\n",
            "808\n",
            "900\n",
            "1000\n",
            "1104\n",
            "1206\n",
            "1300\n",
            "1402\n"
          ],
          "name": "stdout"
        }
      ]
    },
    {
      "cell_type": "code",
      "metadata": {
        "colab": {
          "base_uri": "https://localhost:8080/",
          "height": 132,
          "referenced_widgets": [
            "c227ee01d3b54379863f702cc14a4ac3",
            "d27ce847855e4441a2cc5c268e4c4ee9",
            "0cc19f6b9ceb45728bd562e9b9740460",
            "4d5a693b098d42d1b90276acbe1d1d52",
            "505fb078f6c64413a89f686c75c7cd2b",
            "0ae53ea5275f425bad734826c6f928ce",
            "9834ed16899f4f91a38b958261a73200",
            "3af687be0113451aa90ad08f609508a3"
          ]
        },
        "id": "5J1G_SRT_4vM",
        "outputId": "67a27d49-d8ed-45c8-b13d-64891486ced7"
      },
      "source": [
        "df_s15_16, error_s15_16 = get_all_games(id_s15_16[:300])"
      ],
      "execution_count": null,
      "outputs": [
        {
          "output_type": "display_data",
          "data": {
            "application/vnd.jupyter.widget-view+json": {
              "model_id": "c227ee01d3b54379863f702cc14a4ac3",
              "version_minor": 0,
              "version_major": 2
            },
            "text/plain": [
              "VBox(children=(HTML(value=''), IntProgress(value=0, max=300)))"
            ]
          },
          "metadata": {
            "tags": []
          }
        },
        {
          "output_type": "stream",
          "text": [
            "['2HtRpIuj']\n",
            "['2HtRpIuj', 'Kx7PtCrm']\n",
            "['2HtRpIuj', 'Kx7PtCrm', 'QBi8nAJt']\n"
          ],
          "name": "stdout"
        }
      ]
    },
    {
      "cell_type": "code",
      "metadata": {
        "colab": {
          "base_uri": "https://localhost:8080/"
        },
        "id": "Vb2oTE24vuFn",
        "outputId": "5b8298f8-d7ff-4c13-f8c4-329c2fd756c4"
      },
      "source": [
        "len(s)"
      ],
      "execution_count": null,
      "outputs": [
        {
          "output_type": "execute_result",
          "data": {
            "text/plain": [
              "2"
            ]
          },
          "metadata": {
            "tags": []
          },
          "execution_count": 34
        }
      ]
    },
    {
      "cell_type": "code",
      "metadata": {
        "id": "GtgCO3oq_vX8"
      },
      "source": [
        "s = []\n",
        "for i in error_s15_16:\n",
        "  er = get_one_match(i)\n",
        "  s.append(er)"
      ],
      "execution_count": null,
      "outputs": []
    },
    {
      "cell_type": "code",
      "metadata": {
        "id": "kdzfrDTXpMyM"
      },
      "source": [
        "pd.concat([df_s15_16, pd.concat(s, axis=1).T]).to_csv('15_16_300.csv', index=False, encoding='utf-8')"
      ],
      "execution_count": null,
      "outputs": []
    },
    {
      "cell_type": "code",
      "metadata": {
        "id": "kiYkq9aF16ba"
      },
      "source": [
        "df_s16_17.to_csv('16_17_500_1000.csv', index=False, encoding='utf-8')"
      ],
      "execution_count": null,
      "outputs": []
    }
  ]
}